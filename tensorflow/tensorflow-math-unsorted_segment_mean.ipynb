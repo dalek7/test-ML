{
 "cells": [
  {
   "cell_type": "markdown",
   "metadata": {},
   "source": [
    "Unsorted_segment_mean() is used to find the mean of segments."
   ]
  },
  {
   "cell_type": "code",
   "execution_count": 1,
   "metadata": {},
   "outputs": [],
   "source": [
    "# importing the library\n",
    "import tensorflow as tf"
   ]
  },
  {
   "cell_type": "code",
   "execution_count": 2,
   "metadata": {},
   "outputs": [
    {
     "data": {
      "text/plain": [
       "'2.7.0'"
      ]
     },
     "execution_count": 2,
     "metadata": {},
     "output_type": "execute_result"
    }
   ],
   "source": [
    "tf.__version__"
   ]
  },
  {
   "cell_type": "markdown",
   "metadata": {},
   "source": [
    "# unsorted_segment_sum"
   ]
  },
  {
   "cell_type": "code",
   "execution_count": 3,
   "metadata": {},
   "outputs": [],
   "source": [
    "data = tf.constant([0.2, 0.1, 0.5, 0.7, 0.8])\n",
    "segment_ids = tf.constant([0, 0, 1, 2, 2])"
   ]
  },
  {
   "cell_type": "code",
   "execution_count": 4,
   "metadata": {},
   "outputs": [
    {
     "name": "stdout",
     "output_type": "stream",
     "text": [
      "tf.Tensor([0.3 0.5 1.5], shape=(3,), dtype=float32)\n"
     ]
    }
   ],
   "source": [
    "res = tf.math.unsorted_segment_sum(data, segment_ids, 3)\n",
    "print(res)"
   ]
  },
  {
   "cell_type": "code",
   "execution_count": 5,
   "metadata": {},
   "outputs": [
    {
     "name": "stdout",
     "output_type": "stream",
     "text": [
      "tf.Tensor([0.3 0.5], shape=(2,), dtype=float32)\n"
     ]
    }
   ],
   "source": [
    "res = tf.math.unsorted_segment_sum(data, segment_ids, 2)\n",
    "print(res)"
   ]
  },
  {
   "cell_type": "code",
   "execution_count": 6,
   "metadata": {},
   "outputs": [
    {
     "name": "stdout",
     "output_type": "stream",
     "text": [
      "tf.Tensor([0.3], shape=(1,), dtype=float32)\n"
     ]
    }
   ],
   "source": [
    "res = tf.math.unsorted_segment_sum(data, segment_ids, 1)\n",
    "print(res)"
   ]
  },
  {
   "cell_type": "code",
   "execution_count": 7,
   "metadata": {},
   "outputs": [
    {
     "name": "stdout",
     "output_type": "stream",
     "text": [
      "tf.Tensor([0.3 0.5 1.5 0. ], shape=(4,), dtype=float32)\n"
     ]
    }
   ],
   "source": [
    "res = tf.math.unsorted_segment_sum(data, segment_ids, 4)\n",
    "print(res)"
   ]
  },
  {
   "cell_type": "code",
   "execution_count": 8,
   "metadata": {},
   "outputs": [
    {
     "name": "stdout",
     "output_type": "stream",
     "text": [
      "tf.Tensor([0.7 1.  3. ], shape=(3,), dtype=float32)\n"
     ]
    }
   ],
   "source": [
    "res = tf.math.unsorted_segment_sum(tf.constant([[0.2, 0.1, 0.5, 0.7, 0.8],\n",
    "                                     [0.2, 0.2, 0.5, 0.7, 0.8]]),\n",
    "                        tf.constant([[0, 0, 1, 2, 2],\n",
    "                                     [0, 0, 1, 2, 2]]), 3)\n",
    "print(res)"
   ]
  },
  {
   "cell_type": "markdown",
   "metadata": {},
   "source": [
    "# unsorted_segment_mean"
   ]
  },
  {
   "cell_type": "code",
   "execution_count": 9,
   "metadata": {},
   "outputs": [
    {
     "name": "stdout",
     "output_type": "stream",
     "text": [
      "data:  tf.Tensor([1 2 3], shape=(3,), dtype=int32)\n",
      "segment_ids:  tf.Tensor([2 2 2], shape=(3,), dtype=int32)\n",
      "Result:  tf.Tensor([0. 0. 2.], shape=(3,), dtype=float64)\n"
     ]
    }
   ],
   "source": [
    "# Initializing the input tensor\n",
    "data = tf.constant([1, 2, 3])\n",
    "segment_ids = tf.constant([2, 2, 2])\n",
    "  \n",
    "# Printing the input tensor\n",
    "print('data: ', data)\n",
    "print('segment_ids: ', segment_ids)\n",
    "  \n",
    "# Calculating result\n",
    "res = tf.math.unsorted_segment_mean(data, segment_ids, tf.constant(3))\n",
    "  \n",
    "# Printing the result\n",
    "print('Result: ', res)"
   ]
  },
  {
   "cell_type": "code",
   "execution_count": 10,
   "metadata": {},
   "outputs": [
    {
     "name": "stdout",
     "output_type": "stream",
     "text": [
      "data:  tf.Tensor(\n",
      "[[1 2 3]\n",
      " [4 5 6]], shape=(2, 3), dtype=int32)\n",
      "segment_ids:  tf.Tensor([1 0], shape=(2,), dtype=int32)\n",
      "Result:  tf.Tensor(\n",
      "[[4. 5. 6.]\n",
      " [1. 2. 3.]], shape=(2, 3), dtype=float64)\n"
     ]
    }
   ],
   "source": [
    "# Initializing the input tensor\n",
    "data = tf.constant([[1, 2, 3], [4, 5, 6]])\n",
    "segment_ids = tf.constant([1, 0])\n",
    "  \n",
    "# Printing the input tensor\n",
    "print('data: ', data)\n",
    "print('segment_ids: ', segment_ids)\n",
    "  \n",
    "# Calculating result\n",
    "res = tf.math.unsorted_segment_mean(data, segment_ids, tf.constant(2))\n",
    "  \n",
    "# Printing the result\n",
    "print('Result: ', res)"
   ]
  },
  {
   "cell_type": "code",
   "execution_count": 11,
   "metadata": {
    "scrolled": true
   },
   "outputs": [
    {
     "name": "stdout",
     "output_type": "stream",
     "text": [
      "data:  tf.Tensor(\n",
      "[[1 2 3]\n",
      " [4 5 6]\n",
      " [7 8 9]], shape=(3, 3), dtype=int32)\n",
      "segment_ids:  tf.Tensor([0 2 2], shape=(3,), dtype=int32)\n",
      "Result:  tf.Tensor(\n",
      "[[1.  2.  3. ]\n",
      " [0.  0.  0. ]\n",
      " [5.5 6.5 7.5]], shape=(3, 3), dtype=float64)\n"
     ]
    }
   ],
   "source": [
    "# Initializing the input tensor\n",
    "data = tf.constant([[1, 2, 3], [4, 5, 6], [7, 8, 9]])\n",
    "segment_ids = tf.constant([0, 2,  2])\n",
    "# segment_ids 는 axis 의 index 와 같아야 함?  idx는 모두 부여해야하므로.\n",
    "\n",
    "# Printing the input tensor\n",
    "print('data: ', data)\n",
    "print('segment_ids: ', segment_ids)\n",
    "  \n",
    "# Calculating result\n",
    "res = tf.math.unsorted_segment_mean(data, segment_ids, num_segments = 3)\n",
    "  \n",
    "# Printing the result\n",
    "print('Result: ', res)"
   ]
  },
  {
   "cell_type": "markdown",
   "metadata": {},
   "source": [
    "### References"
   ]
  },
  {
   "cell_type": "markdown",
   "metadata": {},
   "source": [
    "https://stackoverflow.com/q/43210033\n",
    "\n",
    "https://www.geeksforgeeks.org/python-tensorflow-math-unsorted_segment_mean/\n"
   ]
  }
 ],
 "metadata": {
  "kernelspec": {
   "display_name": "Python 3",
   "language": "python",
   "name": "python3"
  },
  "language_info": {
   "codemirror_mode": {
    "name": "ipython",
    "version": 3
   },
   "file_extension": ".py",
   "mimetype": "text/x-python",
   "name": "python",
   "nbconvert_exporter": "python",
   "pygments_lexer": "ipython3",
   "version": "3.8.10"
  }
 },
 "nbformat": 4,
 "nbformat_minor": 2
}
